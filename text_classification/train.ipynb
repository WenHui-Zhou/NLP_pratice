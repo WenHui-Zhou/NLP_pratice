{
 "cells": [
  {
   "cell_type": "code",
   "execution_count": 2,
   "metadata": {},
   "outputs": [
    {
     "name": "stdout",
     "output_type": "stream",
     "text": [
      "['test.tsv', 'sampleSubmission.csv', 'train.tsv']\n"
     ]
    }
   ],
   "source": [
    "#读取数据\n",
    "import numpy as np\n",
    "import pandas as pd\n",
    "import os\n",
    "\n",
    "import warnings\n",
    "warnings.filterwarnings('ignore',category=UserWarning,module='bs4')\n",
    "\n",
    "root = './data'\n",
    "print(os.listdir(root))"
   ]
  },
  {
   "cell_type": "code",
   "execution_count": 3,
   "metadata": {},
   "outputs": [],
   "source": [
    "#nltk是处理英文本文的一个库函数，里头包含了例如tokenizer，lemma类似的函数\n",
    "import nltk\n",
    "from nltk.tokenize import word_tokenize\n",
    "from nltk.stem import WordNetLemmatizer\n",
    "lemmatizer = WordNetLemmatizer()\n",
    "from bs4 import BeautifulSoup\n",
    "import re\n",
    "from tqdm import tqdm"
   ]
  },
  {
   "cell_type": "code",
   "execution_count": 28,
   "metadata": {},
   "outputs": [],
   "source": [
    "#使用keras搭建网络\n",
    "from keras.utils import to_categorical # 转成one-hot\n",
    "import random\n",
    "from tensorflow import set_random_seed\n",
    "from sklearn.model_selection import train_test_split # 划分验证集，训练集\n",
    "from keras.preprocessing import sequence # 将词转成序列\n",
    "from keras.preprocessing.text import Tokenizer # 来自keras的token函数\n",
    "from keras.layers import Dense,Dropout,Embedding,LSTM,GRU,Conv1D,MaxPooling1D,GlobalAveragePooling1D # 网络层\n",
    "from keras.callbacks import EarlyStopping # 训练提早结束\n",
    "from keras.losses import categorical_crossentropy # 分类器\n",
    "from keras.optimizers import Adam # 优化器\n",
    "from keras.models import Sequential # 模型容器"
   ]
  },
  {
   "cell_type": "code",
   "execution_count": 5,
   "metadata": {},
   "outputs": [],
   "source": [
    "# 为keras优化器固定一个随机算子，这样可以保证每次出现的结果都是相同的，便于验证\n",
    "set_random_seed(123)\n",
    "random.seed(123)"
   ]
  },
  {
   "cell_type": "code",
   "execution_count": 6,
   "metadata": {},
   "outputs": [
    {
     "data": {
      "text/html": [
       "<div>\n",
       "<style scoped>\n",
       "    .dataframe tbody tr th:only-of-type {\n",
       "        vertical-align: middle;\n",
       "    }\n",
       "\n",
       "    .dataframe tbody tr th {\n",
       "        vertical-align: top;\n",
       "    }\n",
       "\n",
       "    .dataframe thead th {\n",
       "        text-align: right;\n",
       "    }\n",
       "</style>\n",
       "<table border=\"1\" class=\"dataframe\">\n",
       "  <thead>\n",
       "    <tr style=\"text-align: right;\">\n",
       "      <th></th>\n",
       "      <th>PhraseId</th>\n",
       "      <th>SentenceId</th>\n",
       "      <th>Phrase</th>\n",
       "      <th>Sentiment</th>\n",
       "    </tr>\n",
       "  </thead>\n",
       "  <tbody>\n",
       "    <tr>\n",
       "      <th>0</th>\n",
       "      <td>1</td>\n",
       "      <td>1</td>\n",
       "      <td>A series of escapades demonstrating the adage ...</td>\n",
       "      <td>1</td>\n",
       "    </tr>\n",
       "    <tr>\n",
       "      <th>1</th>\n",
       "      <td>2</td>\n",
       "      <td>1</td>\n",
       "      <td>A series of escapades demonstrating the adage ...</td>\n",
       "      <td>2</td>\n",
       "    </tr>\n",
       "    <tr>\n",
       "      <th>2</th>\n",
       "      <td>3</td>\n",
       "      <td>1</td>\n",
       "      <td>A series</td>\n",
       "      <td>2</td>\n",
       "    </tr>\n",
       "    <tr>\n",
       "      <th>3</th>\n",
       "      <td>4</td>\n",
       "      <td>1</td>\n",
       "      <td>A</td>\n",
       "      <td>2</td>\n",
       "    </tr>\n",
       "    <tr>\n",
       "      <th>4</th>\n",
       "      <td>5</td>\n",
       "      <td>1</td>\n",
       "      <td>series</td>\n",
       "      <td>2</td>\n",
       "    </tr>\n",
       "  </tbody>\n",
       "</table>\n",
       "</div>"
      ],
      "text/plain": [
       "   PhraseId  SentenceId                                             Phrase  \\\n",
       "0         1           1  A series of escapades demonstrating the adage ...   \n",
       "1         2           1  A series of escapades demonstrating the adage ...   \n",
       "2         3           1                                           A series   \n",
       "3         4           1                                                  A   \n",
       "4         5           1                                             series   \n",
       "\n",
       "   Sentiment  \n",
       "0          1  \n",
       "1          2  \n",
       "2          2  \n",
       "3          2  \n",
       "4          2  "
      ]
     },
     "execution_count": 6,
     "metadata": {},
     "output_type": "execute_result"
    }
   ],
   "source": [
    "# load data\n",
    "train = pd.read_csv(os.path.join(root,'train.tsv'),sep = '\\t')\n",
    "test = pd.read_csv(os.path.join(root,'test.tsv'),sep = '\\t')\n",
    "train.head()"
   ]
  },
  {
   "cell_type": "code",
   "execution_count": 7,
   "metadata": {},
   "outputs": [
    {
     "data": {
      "text/plain": [
       "(156060, 4)"
      ]
     },
     "execution_count": 7,
     "metadata": {},
     "output_type": "execute_result"
    }
   ],
   "source": [
    "train.shape"
   ]
  },
  {
   "cell_type": "code",
   "execution_count": 8,
   "metadata": {},
   "outputs": [
    {
     "data": {
      "text/html": [
       "<div>\n",
       "<style scoped>\n",
       "    .dataframe tbody tr th:only-of-type {\n",
       "        vertical-align: middle;\n",
       "    }\n",
       "\n",
       "    .dataframe tbody tr th {\n",
       "        vertical-align: top;\n",
       "    }\n",
       "\n",
       "    .dataframe thead th {\n",
       "        text-align: right;\n",
       "    }\n",
       "</style>\n",
       "<table border=\"1\" class=\"dataframe\">\n",
       "  <thead>\n",
       "    <tr style=\"text-align: right;\">\n",
       "      <th></th>\n",
       "      <th>PhraseId</th>\n",
       "      <th>SentenceId</th>\n",
       "      <th>Phrase</th>\n",
       "    </tr>\n",
       "  </thead>\n",
       "  <tbody>\n",
       "    <tr>\n",
       "      <th>0</th>\n",
       "      <td>156061</td>\n",
       "      <td>8545</td>\n",
       "      <td>An intermittently pleasing but mostly routine ...</td>\n",
       "    </tr>\n",
       "    <tr>\n",
       "      <th>1</th>\n",
       "      <td>156062</td>\n",
       "      <td>8545</td>\n",
       "      <td>An intermittently pleasing but mostly routine ...</td>\n",
       "    </tr>\n",
       "    <tr>\n",
       "      <th>2</th>\n",
       "      <td>156063</td>\n",
       "      <td>8545</td>\n",
       "      <td>An</td>\n",
       "    </tr>\n",
       "    <tr>\n",
       "      <th>3</th>\n",
       "      <td>156064</td>\n",
       "      <td>8545</td>\n",
       "      <td>intermittently pleasing but mostly routine effort</td>\n",
       "    </tr>\n",
       "    <tr>\n",
       "      <th>4</th>\n",
       "      <td>156065</td>\n",
       "      <td>8545</td>\n",
       "      <td>intermittently pleasing but mostly routine</td>\n",
       "    </tr>\n",
       "  </tbody>\n",
       "</table>\n",
       "</div>"
      ],
      "text/plain": [
       "   PhraseId  SentenceId                                             Phrase\n",
       "0    156061        8545  An intermittently pleasing but mostly routine ...\n",
       "1    156062        8545  An intermittently pleasing but mostly routine ...\n",
       "2    156063        8545                                                 An\n",
       "3    156064        8545  intermittently pleasing but mostly routine effort\n",
       "4    156065        8545         intermittently pleasing but mostly routine"
      ]
     },
     "execution_count": 8,
     "metadata": {},
     "output_type": "execute_result"
    }
   ],
   "source": [
    "test.head()"
   ]
  },
  {
   "cell_type": "code",
   "execution_count": 13,
   "metadata": {},
   "outputs": [
    {
     "data": {
      "text/plain": [
       "(66292, 3)"
      ]
     },
     "execution_count": 13,
     "metadata": {},
     "output_type": "execute_result"
    }
   ],
   "source": [
    "test.shape"
   ]
  },
  {
   "cell_type": "code",
   "execution_count": 9,
   "metadata": {},
   "outputs": [],
   "source": [
    "# 下面这个函数用来去除html标签\n",
    "# 去除非文本内容\n",
    "# tokenize句子，即分词\n",
    "# lemmatize句子，即词性还原\n",
    "def clean_sentences(df):\n",
    "    reviews = []\n",
    "    for sent in tqdm(df['Phrase']):\n",
    "        review_text = BeautifulSoup(sent).get_text() # 去除html\n",
    "        review_text = re.sub('[^a-zA-Z]',' ',review_text) # 去除非文本部分\n",
    "        # tokenize the sentences\n",
    "        words = word_tokenize(review_text.lower()) # 令牌化\n",
    "        lemma_words = [lemmatizer.lemmatize(i) for i in words] # 词形恢复\n",
    "        reviews.append(lemma_words)\n",
    "    return reviews"
   ]
  },
  {
   "cell_type": "code",
   "execution_count": 10,
   "metadata": {},
   "outputs": [
    {
     "name": "stderr",
     "output_type": "stream",
     "text": [
      "100%|██████████| 156060/156060 [03:05<00:00, 839.74it/s] \n",
      "100%|██████████| 66292/66292 [01:16<00:00, 862.34it/s] "
     ]
    },
    {
     "name": "stdout",
     "output_type": "stream",
     "text": [
      "156060\n",
      "66292\n"
     ]
    },
    {
     "name": "stderr",
     "output_type": "stream",
     "text": [
      "\n"
     ]
    }
   ],
   "source": [
    "# clear the data\n",
    "train_sentences = clean_sentences(train)\n",
    "test_sentences = clean_sentences(test)\n",
    "print(len(train_sentences))\n",
    "print(len(test_sentences))"
   ]
  },
  {
   "cell_type": "code",
   "execution_count": 11,
   "metadata": {},
   "outputs": [],
   "source": [
    "# 将标注转变为one-hot格式\n",
    "target = train.Sentiment.values\n",
    "y_target = to_categorical(target)\n",
    "num_classes = y_target.shape[1]"
   ]
  },
  {
   "cell_type": "code",
   "execution_count": 12,
   "metadata": {},
   "outputs": [
    {
     "name": "stdout",
     "output_type": "stream",
     "text": [
      "(156060, 5)\n"
     ]
    }
   ],
   "source": [
    "print(y_target.shape)"
   ]
  },
  {
   "cell_type": "code",
   "execution_count": 13,
   "metadata": {},
   "outputs": [],
   "source": [
    "# split the data into train and val\n",
    "x_train,x_val,y_train,y_val = train_test_split(train_sentences,y_target,test_size = 0.2,stratify=y_target)"
   ]
  },
  {
   "cell_type": "code",
   "execution_count": 14,
   "metadata": {},
   "outputs": [
    {
     "name": "stderr",
     "output_type": "stream",
     "text": [
      "100%|██████████| 124848/124848 [00:00<00:00, 362057.13it/s]"
     ]
    },
    {
     "name": "stdout",
     "output_type": "stream",
     "text": [
      "13729\n",
      "48\n"
     ]
    },
    {
     "name": "stderr",
     "output_type": "stream",
     "text": [
      "\n"
     ]
    }
   ],
   "source": [
    "# 去除重复出现的词，unique_words里头是一个单词的全集\n",
    "unique_words = set()\n",
    "len_max = 0\n",
    "for sent in tqdm(x_train):\n",
    "    unique_words.update(sent)\n",
    "    if(len_max < len(sent)):\n",
    "        len_max = len(sent)\n",
    "print(len(list(unique_words)))\n",
    "print(len_max)"
   ]
  },
  {
   "cell_type": "code",
   "execution_count": 15,
   "metadata": {},
   "outputs": [
    {
     "data": {
      "text/plain": [
       "['t',\n",
       " 'recall',\n",
       " 'pinnacle',\n",
       " 'sought',\n",
       " 'glitz',\n",
       " 'purportedly',\n",
       " 'adventure',\n",
       " 'mongrel',\n",
       " 'knoxville',\n",
       " 'jumbled']"
      ]
     },
     "execution_count": 15,
     "metadata": {},
     "output_type": "execute_result"
    }
   ],
   "source": [
    "list(unique_words)[:10]"
   ]
  },
  {
   "cell_type": "code",
   "execution_count": 16,
   "metadata": {},
   "outputs": [],
   "source": [
    "# 对句子再次进行tokenizer操作\n",
    "tokenizer = Tokenizer(num_words = len(list(unique_words)))\n",
    "tokenizer.fit_on_texts(list(x_train)) # 用数据初始化tokenizer\n",
    "# tokenizer.word_count 返回一个字典，字典的key为词，val为出现的个数\n",
    "# tokenizer.word_index 对词集合中每一个词编号,key为词，val为编号\n",
    "# 将句子中的词替换成词的编号\n",
    "x_train = tokenizer.texts_to_sequences(x_train)\n",
    "x_val = tokenizer.texts_to_sequences(x_val)\n",
    "x_test = tokenizer.texts_to_sequences(test_sentences)\n",
    "# 由于每个句子的长度不一样长，因此需要对齐，通过pad在短的句子开头补上0\n",
    "x_train = sequence.pad_sequences(x_train,maxlen=len_max)\n",
    "x_val = sequence.pad_sequences(x_val,maxlen=len_max)\n",
    "x_test = sequence.pad_sequences(x_test,maxlen=len_max)"
   ]
  },
  {
   "cell_type": "code",
   "execution_count": 17,
   "metadata": {},
   "outputs": [
    {
     "name": "stdout",
     "output_type": "stream",
     "text": [
      "(124848, 48) (31212, 48) (66292, 48)\n"
     ]
    }
   ],
   "source": [
    "print(x_train.shape,x_val.shape,x_test.shape)"
   ]
  },
  {
   "cell_type": "code",
   "execution_count": 18,
   "metadata": {},
   "outputs": [
    {
     "data": {
      "text/plain": [
       "array([   0,    0,    0,    0,    0,    0,    0,    0,    0,    0,    0,\n",
       "          0,    0,    0,    0,    0,    0,    0,    0,    0,    0,    0,\n",
       "          0,    0,    0,    0,    0,    0,    0,    0,    0,    0,    0,\n",
       "          0,    0,    0,    0,    0,    0,    0,  140,  718, 1760,  820,\n",
       "       1895,    3,  257,   53], dtype=int32)"
      ]
     },
     "execution_count": 18,
     "metadata": {},
     "output_type": "execute_result"
    }
   ],
   "source": [
    "list(x_train)[0]"
   ]
  },
  {
   "cell_type": "code",
   "execution_count": 19,
   "metadata": {},
   "outputs": [],
   "source": [
    "# 设置early stop\n",
    "early_stopping = EarlyStopping(min_delta=0.001,mode ='max',monitor='val_acc',patience = 2)\n",
    "callback = [early_stopping]"
   ]
  },
  {
   "cell_type": "code",
   "execution_count": 68,
   "metadata": {},
   "outputs": [
    {
     "name": "stdout",
     "output_type": "stream",
     "text": [
      "_________________________________________________________________\n",
      "Layer (type)                 Output Shape              Param #   \n",
      "=================================================================\n",
      "embedding_2 (Embedding)      (None, 48, 300)           4121400   \n",
      "_________________________________________________________________\n",
      "lstm_1 (LSTM)                (None, 48, 128)           219648    \n",
      "_________________________________________________________________\n",
      "lstm_2 (LSTM)                (None, 64)                49408     \n",
      "_________________________________________________________________\n",
      "dense_1 (Dense)              (None, 100)               6500      \n",
      "_________________________________________________________________\n",
      "dropout_1 (Dropout)          (None, 100)               0         \n",
      "_________________________________________________________________\n",
      "dense_2 (Dense)              (None, 5)                 505       \n",
      "=================================================================\n",
      "Total params: 4,397,461\n",
      "Trainable params: 4,397,461\n",
      "Non-trainable params: 0\n",
      "_________________________________________________________________\n"
     ]
    }
   ],
   "source": [
    "# keras搭建模型\n",
    "model = Sequential()\n",
    "# embedding(input_dim(词汇表长度),output_dim(输出的vector的长度)，input_length(输入句子的长度))\n",
    "# 等于输入了词汇表，句子的sequences，然后去学习word2vec的参数，得到表示句子的vector，长度通常设置成128或300\n",
    "model.add(Embedding(len(list(unique_words)),300,input_length=len_max))# embedding 起到word2vec的作用\n",
    "# LSTM\n",
    "model.add(LSTM(128,dropout=0.5,recurrent_dropout=0.5,return_sequences=True))\n",
    "model.add(LSTM(64,dropout=0.5,recurrent_dropout=0.5,return_sequences=False))\n",
    "model.add(Dense(100,activation='relu'))\n",
    "model.add(Dropout(0.5))\n",
    "model.add(Dense(num_classes,activation = 'softmax'))\n",
    "model.compile(loss = 'categorical_crossentropy',optimizer=Adam(lr = 0.005),metrics=['accuracy'])\n",
    "model.summary()"
   ]
  },
  {
   "cell_type": "code",
   "execution_count": 22,
   "metadata": {},
   "outputs": [
    {
     "name": "stdout",
     "output_type": "stream",
     "text": [
      "_________________________________________________________________\n",
      "Layer (type)                 Output Shape              Param #   \n",
      "=================================================================\n",
      "embedding_2 (Embedding)      (None, 48, 300)           4118700   \n",
      "_________________________________________________________________\n",
      "gru_1 (GRU)                  (None, 48, 128)           164736    \n",
      "_________________________________________________________________\n",
      "gru_2 (GRU)                  (None, 64)                37056     \n",
      "_________________________________________________________________\n",
      "dense_1 (Dense)              (None, 100)               6500      \n",
      "_________________________________________________________________\n",
      "dense_2 (Dense)              (None, 5)                 505       \n",
      "=================================================================\n",
      "Total params: 4,327,497\n",
      "Trainable params: 4,327,497\n",
      "Non-trainable params: 0\n",
      "_________________________________________________________________\n"
     ]
    }
   ],
   "source": [
    "# 使用GRU代替LSTM的结果\n",
    "model = Sequential()\n",
    "model.add(Embedding(len(list(unique_words)),300,input_length=len_max))\n",
    "model.add(GRU(128,dropout=0.5,recurrent_dropout=0.5,return_sequences=True))\n",
    "model.add(GRU(64,return_sequences=False))\n",
    "model.add(Dense(100,activation='relu'))\n",
    "model.add(Dense(num_classes,activation = 'softmax'))\n",
    "model.compile(loss = 'categorical_crossentropy',optimizer=Adam(lr = 0.005),metrics=['accuracy'])\n",
    "model.summary()"
   ]
  },
  {
   "cell_type": "code",
   "execution_count": 31,
   "metadata": {},
   "outputs": [
    {
     "name": "stdout",
     "output_type": "stream",
     "text": [
      "_________________________________________________________________\n",
      "Layer (type)                 Output Shape              Param #   \n",
      "=================================================================\n",
      "embedding_5 (Embedding)      (None, 48, 300)           4118700   \n",
      "_________________________________________________________________\n",
      "conv1d_9 (Conv1D)            (None, 39, 128)           384128    \n",
      "_________________________________________________________________\n",
      "conv1d_10 (Conv1D)           (None, 30, 128)           163968    \n",
      "_________________________________________________________________\n",
      "max_pooling1d_3 (MaxPooling1 (None, 15, 128)           0         \n",
      "_________________________________________________________________\n",
      "conv1d_11 (Conv1D)           (None, 10, 32)            24608     \n",
      "_________________________________________________________________\n",
      "conv1d_12 (Conv1D)           (None, 5, 32)             6176      \n",
      "_________________________________________________________________\n",
      "global_average_pooling1d_2 ( (None, 32)                0         \n",
      "_________________________________________________________________\n",
      "dense_4 (Dense)              (None, 5)                 165       \n",
      "=================================================================\n",
      "Total params: 4,697,745\n",
      "Trainable params: 4,697,745\n",
      "Non-trainable params: 0\n",
      "_________________________________________________________________\n"
     ]
    }
   ],
   "source": [
    "#使用CNN代替LSTM\n",
    "model = Sequential()\n",
    "model.add(Embedding(len(list(unique_words)),300,input_length=len_max))\n",
    "model.add(Conv1D(128,10,activation='relu'))\n",
    "model.add(Conv1D(128,10,activation='relu'))\n",
    "model.add(MaxPooling1D(2))\n",
    "model.add(Conv1D(32,6))\n",
    "model.add(Conv1D(32,6))\n",
    "model.add(GlobalAveragePooling1D())\n",
    "model.add(Dense(num_classes,activation = 'softmax'))\n",
    "model.compile(loss='categorical_crossentropy',optimizer=Adam(lr = 0.005),metrics=['accuracy'])\n",
    "model.summary()"
   ]
  },
  {
   "cell_type": "code",
   "execution_count": 32,
   "metadata": {},
   "outputs": [
    {
     "name": "stdout",
     "output_type": "stream",
     "text": [
      "Train on 124848 samples, validate on 31212 samples\n",
      "Epoch 1/6\n",
      "124848/124848 [==============================] - 11s 92us/step - loss: 1.1451 - acc: 0.5505 - val_loss: 0.9457 - val_acc: 0.6205\n",
      "Epoch 2/6\n",
      "124848/124848 [==============================] - 8s 60us/step - loss: 0.8761 - acc: 0.6514 - val_loss: 0.8612 - val_acc: 0.6523\n",
      "Epoch 3/6\n",
      "124848/124848 [==============================] - 7s 58us/step - loss: 0.7827 - acc: 0.6878 - val_loss: 0.8471 - val_acc: 0.6613\n",
      "Epoch 4/6\n",
      "124848/124848 [==============================] - 7s 58us/step - loss: 0.7298 - acc: 0.7090 - val_loss: 0.8444 - val_acc: 0.6653\n",
      "Epoch 5/6\n",
      "124848/124848 [==============================] - 7s 59us/step - loss: 0.6906 - acc: 0.7238 - val_loss: 0.8494 - val_acc: 0.6619\n",
      "Epoch 6/6\n",
      "124848/124848 [==============================] - 8s 60us/step - loss: 0.6538 - acc: 0.7383 - val_loss: 0.8790 - val_acc: 0.6592\n"
     ]
    }
   ],
   "source": [
    "# 往模型中加入数据 CNN\n",
    "history = model.fit(x_train,y_train,validation_data=(x_val,y_val),epochs=6,batch_size = 256,verbose=1,\n",
    "                    callbacks=callback)"
   ]
  },
  {
   "cell_type": "code",
   "execution_count": 23,
   "metadata": {},
   "outputs": [
    {
     "name": "stdout",
     "output_type": "stream",
     "text": [
      "Train on 124848 samples, validate on 31212 samples\n",
      "Epoch 1/6\n",
      "124848/124848 [==============================] - 141s 1ms/step - loss: 0.9450 - acc: 0.6159 - val_loss: 0.8292 - val_acc: 0.6599\n",
      "Epoch 2/6\n",
      "124848/124848 [==============================] - 130s 1ms/step - loss: 0.7804 - acc: 0.6798 - val_loss: 0.7983 - val_acc: 0.6690\n",
      "Epoch 3/6\n",
      "124848/124848 [==============================] - 130s 1ms/step - loss: 0.7256 - acc: 0.6980 - val_loss: 0.7925 - val_acc: 0.6688\n",
      "Epoch 4/6\n",
      "124848/124848 [==============================] - 134s 1ms/step - loss: 0.7023 - acc: 0.7079 - val_loss: 0.8189 - val_acc: 0.6667\n"
     ]
    }
   ],
   "source": [
    "# 往模型中加入数据 GRU\n",
    "history = model.fit(x_train,y_train,validation_data=(x_val,y_val),epochs=6,batch_size = 256,verbose=1,\n",
    "                    callbacks=callback)"
   ]
  },
  {
   "cell_type": "code",
   "execution_count": 24,
   "metadata": {},
   "outputs": [
    {
     "data": {
      "image/png": "[encoded data removed]",
      "text/plain": [
       "<Figure size 432x288 with 1 Axes>"
      ]
     },
     "metadata": {},
     "output_type": "display_data"
    }
   ],
   "source": [
    "import matplotlib.pyplot as plt\n",
    "%matplotlib inline\n",
    "epoch_count = range(1,len(history.history['loss']) + 1)\n",
    "\n",
    "plt.plot(epoch_count,history.history['loss'],'r--')\n",
    "plt.plot(epoch_count,history.history['val_loss'],'b--')\n",
    "plt.legend(['Training loss','validation loss'])\n",
    "plt.xlabel('epoch')\n",
    "plt.ylabel('loss')\n",
    "plt.show()"
   ]
  },
  {
   "cell_type": "code",
   "execution_count": 72,
   "metadata": {},
   "outputs": [],
   "source": [
    "# submission\n",
    "y_pred = model.predict_classes(x_test)\n",
    "sub_file = pd.read_csv(os.path.join(root,'sampleSubmission.csv'),sep=',')\n",
    "sub_file.Sentiment = y_pred\n",
    "sub_file.to_csv('submission.csv',index = False)"
   ]
  },
  {
   "cell_type": "code",
   "execution_count": null,
   "metadata": {},
   "outputs": [],
   "source": []
  }
 ],
 "metadata": {
  "kernelspec": {
   "display_name": "Python 3",
   "language": "python",
   "name": "python3"
  },
  "language_info": {
   "codemirror_mode": {
    "name": "ipython",
    "version": 3
   },
   "file_extension": ".py",
   "mimetype": "text/x-python",
   "name": "python",
   "nbconvert_exporter": "python",
   "pygments_lexer": "ipython3",
   "version": "3.6.3"
  }
 },
 "nbformat": 4,
 "nbformat_minor": 2
}
