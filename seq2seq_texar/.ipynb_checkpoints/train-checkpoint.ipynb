{
 "cells": [
  {
   "cell_type": "code",
   "execution_count": null,
   "metadata": {},
   "outputs": [],
   "source": [
    "# 下载数据集\n",
    "import texar.torch as tx\n",
    "print('download data')\n",
    "tx.data.maybe_download(\n",
    "       urls='https://drive.google.com/file/d/'\n",
    "             '1fENE2rakm8vJ8d3voWBgW4hGlS6-KORW/view?usp=sharing',\n",
    "        path='./',\n",
    "        filenames='toy_copy.zip',\n",
    "        extract=True)"
   ]
  },
  {
   "cell_type": "code",
   "execution_count": null,
   "metadata": {},
   "outputs": [],
   "source": []
  }
 ],
 "metadata": {
  "kernelspec": {
   "display_name": "Python 3",
   "language": "python",
   "name": "python3"
  },
  "language_info": {
   "codemirror_mode": {
    "name": "ipython",
    "version": 3
   },
   "file_extension": ".py",
   "mimetype": "text/x-python",
   "name": "python",
   "nbconvert_exporter": "python",
   "pygments_lexer": "ipython3",
   "version": "3.7.3"
  }
 },
 "nbformat": 4,
 "nbformat_minor": 2
}
