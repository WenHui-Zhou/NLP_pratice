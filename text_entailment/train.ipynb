{
 "cells": [
  {
   "cell_type": "code",
   "execution_count": 1,
   "metadata": {},
   "outputs": [],
   "source": [
    "# 载入数据\n",
    "import numpy as np\n",
    "import pandas as pd\n",
    "import os \n",
    "import warnings\n",
    "warnings.filterwarnings('ignore',category = UserWarning,module='bs4')"
   ]
  },
  {
   "cell_type": "code",
   "execution_count": 2,
   "metadata": {},
   "outputs": [],
   "source": [
    "from torchtext import data\n",
    "from torchtext.data import Dataset\n",
    "from torchtext import datasets\n",
    "from torchtext.vocab import GloVe\n",
    "from nltk import word_tokenize"
   ]
  },
  {
   "cell_type": "code",
   "execution_count": 5,
   "metadata": {},
   "outputs": [],
   "source": [
    "class SNLI(object):\n",
    "    def __init__(self):\n",
    "        # 定义如何处理文本和标签\n",
    "        print('定义文本和标签')\n",
    "        self.TEXT = data.Field(batch_first = True,  # 产生的向量第一维是batch_size\n",
    "                               include_lengths=True, # 返回最小batch的句子长度\n",
    "                               tokenize = word_tokenize, # 分词\n",
    "                               lower=True) # 数据转成小写\n",
    "        self.LABEL = data.Field(sequential = False,unk_token = None)\n",
    "        \n",
    "        # 划分数据集\n",
    "        print('划分数集')\n",
    "        self.train,self.dev,self.test = datasets.SNLI.splits(self.TEXT,self.LABEL,root = './data')\n",
    "        # 创建词汇表\n",
    "        print('创建词汇表') # 得到一个字典，key为单词，value为编号\n",
    "        self.TEXT.build_vocab(self.train,self.dev,self.test,vectors = GloVe(name = '840B',dim = 300))\n",
    "        self.LABEL.build_vocab(self.train)\n",
    "        # 生成batch 迭代器\n",
    "        print('4.batch 迭代器')\n",
    "        self.train_iter,self.dev_iter,self.test_iter = data.BucketIterator.splits((self.train,self.dev,self.test),\n",
    "                                                                                 batch_size = 4)"
   ]
  },
  {
   "cell_type": "code",
   "execution_count": 6,
   "metadata": {},
   "outputs": [
    {
     "name": "stdout",
     "output_type": "stream",
     "text": [
      "定义文本和标签\n",
      "划分数集\n",
      "创建词汇表\n",
      "4.batch 迭代器\n"
     ]
    }
   ],
   "source": [
    "snli = SNLI()"
   ]
  },
  {
   "cell_type": "code",
   "execution_count": 26,
   "metadata": {},
   "outputs": [
    {
     "name": "stdout",
     "output_type": "stream",
     "text": [
      "<torchtext.data.iterator.BucketIterator object at 0x7ff3967cafd0>\n"
     ]
    }
   ],
   "source": [
    "item = snli.train_iter\n",
    "print(item)"
   ]
  },
  {
   "cell_type": "code",
   "execution_count": null,
   "metadata": {},
   "outputs": [],
   "source": []
  }
 ],
 "metadata": {
  "kernelspec": {
   "display_name": "Python 3",
   "language": "python",
   "name": "python3"
  },
  "language_info": {
   "codemirror_mode": {
    "name": "ipython",
    "version": 3
   },
   "file_extension": ".py",
   "mimetype": "text/x-python",
   "name": "python",
   "nbconvert_exporter": "python",
   "pygments_lexer": "ipython3",
   "version": "3.7.3"
  }
 },
 "nbformat": 4,
 "nbformat_minor": 2
}
