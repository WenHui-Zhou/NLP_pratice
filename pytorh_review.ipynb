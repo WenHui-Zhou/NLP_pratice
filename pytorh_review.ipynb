{
 "cells": [
  {
   "cell_type": "code",
   "execution_count": 1,
   "metadata": {},
   "outputs": [],
   "source": [
    "import torch"
   ]
  },
  {
   "cell_type": "code",
   "execution_count": 2,
   "metadata": {},
   "outputs": [
    {
     "name": "stdout",
     "output_type": "stream",
     "text": [
      "tensor([[5.6719e-11, 7.3471e+28, 2.6383e+23],\n",
      "        [2.7376e+20, 1.8040e+28, 1.8750e-19],\n",
      "        [7.3909e+22, 2.4176e-12, 2.6209e+20],\n",
      "        [4.1641e+12, 8.9625e-01, 7.9309e+34],\n",
      "        [7.9439e+08, 3.2604e-12, 7.3113e+34]])\n"
     ]
    }
   ],
   "source": [
    "x = torch.empty(5,3)\n",
    "print(x)"
   ]
  },
  {
   "cell_type": "code",
   "execution_count": 4,
   "metadata": {},
   "outputs": [
    {
     "name": "stdout",
     "output_type": "stream",
     "text": [
      "tensor([[0.3158, 0.7657, 0.6278],\n",
      "        [0.7836, 0.0302, 0.4103],\n",
      "        [0.3268, 0.6918, 0.5320],\n",
      "        [0.1234, 0.4434, 0.5901],\n",
      "        [0.7844, 0.4438, 0.4145]])\n"
     ]
    }
   ],
   "source": [
    "x = torch.rand(5,3)\n",
    "print(x)"
   ]
  },
  {
   "cell_type": "code",
   "execution_count": 16,
   "metadata": {},
   "outputs": [
    {
     "name": "stdout",
     "output_type": "stream",
     "text": [
      "tensor([[0., 0., 0.],\n",
      "        [0., 0., 0.],\n",
      "        [0., 0., 0.],\n",
      "        [0., 0., 0.],\n",
      "        [0., 0., 0.]])\n"
     ]
    }
   ],
   "source": [
    "x = torch.zeros(5,3,dtype=torch.float)\n",
    "print(x)"
   ]
  },
  {
   "cell_type": "code",
   "execution_count": 6,
   "metadata": {},
   "outputs": [
    {
     "data": {
      "text/plain": [
       "tensor([5.5000, 3.0000])"
      ]
     },
     "execution_count": 6,
     "metadata": {},
     "output_type": "execute_result"
    }
   ],
   "source": [
    "# 直接构造一个张量\n",
    "torch.tensor([5.5,3])"
   ]
  },
  {
   "cell_type": "code",
   "execution_count": 12,
   "metadata": {},
   "outputs": [
    {
     "name": "stdout",
     "output_type": "stream",
     "text": [
      "tensor([[1., 1., 1., 1.],\n",
      "        [1., 1., 1., 1.],\n",
      "        [1., 1., 1., 1.],\n",
      "        [1., 1., 1., 1.],\n",
      "        [1., 1., 1., 1.]])\n",
      "tensor([[-1.3818,  0.8586,  0.8391,  1.5994],\n",
      "        [ 0.2063, -0.3622, -0.4327, -0.3489],\n",
      "        [ 0.7277, -0.9178, -0.7043,  1.9808],\n",
      "        [-0.6967,  0.1376,  1.8739,  0.2440],\n",
      "        [ 0.7988, -0.5926,  0.6904, -0.6370]])\n"
     ]
    }
   ],
   "source": [
    "# 利用已有的张量的shape构建新的张量\n",
    "x = x.new_ones(5,4,dtype = torch.float)\n",
    "print(x)\n",
    "x = torch.randn_like(x,dtype = torch.float)\n",
    "print(x)"
   ]
  },
  {
   "cell_type": "code",
   "execution_count": 24,
   "metadata": {},
   "outputs": [
    {
     "name": "stdout",
     "output_type": "stream",
     "text": [
      "torch.Size([5, 3])\n"
     ]
    }
   ],
   "source": [
    "print(x.size())"
   ]
  },
  {
   "cell_type": "code",
   "execution_count": 32,
   "metadata": {},
   "outputs": [
    {
     "data": {
      "text/plain": [
       "tensor([[-0.2287, -0.7497, -0.1797],\n",
       "        [-0.0510, -0.4959, -0.8975],\n",
       "        [-0.9554, -0.5163, -0.4220],\n",
       "        [-0.5823, -0.7286, -0.9964],\n",
       "        [-0.4556, -0.3623, -0.8184]])"
      ]
     },
     "execution_count": 32,
     "metadata": {},
     "output_type": "execute_result"
    }
   ],
   "source": [
    "y = torch.rand(5,3,dtype = torch.float)\n",
    "y =  x - y\n",
    "y"
   ]
  },
  {
   "cell_type": "code",
   "execution_count": 34,
   "metadata": {},
   "outputs": [
    {
     "data": {
      "text/plain": [
       "tensor([[-0.2833, -0.2523,  0.2989],\n",
       "        [-1.4744,  0.5072, -0.6139],\n",
       "        [-0.2076,  1.1081, -0.9442]])"
      ]
     },
     "execution_count": 34,
     "metadata": {},
     "output_type": "execute_result"
    }
   ],
   "source": [
    "x = torch.randn(3,3)\n",
    "x"
   ]
  },
  {
   "cell_type": "code",
   "execution_count": 46,
   "metadata": {},
   "outputs": [],
   "source": [
    "x = x.view(9)"
   ]
  },
  {
   "cell_type": "code",
   "execution_count": 54,
   "metadata": {},
   "outputs": [
    {
     "name": "stdout",
     "output_type": "stream",
     "text": [
      "tensor([[0.9514, 0.3975, 0.3291],\n",
      "        [0.7604, 0.0752, 0.3696]])\n",
      "tensor([[0.1716, 0.3865, 0.1762],\n",
      "        [0.4926, 0.4041, 0.2064]])\n"
     ]
    }
   ],
   "source": [
    "x = torch.rand(2,3,dtype = torch.float)\n",
    "y = torch.rand_like(x,dtype = torch.float)\n",
    "print(x)\n",
    "print(y)"
   ]
  },
  {
   "cell_type": "code",
   "execution_count": 57,
   "metadata": {},
   "outputs": [
    {
     "data": {
      "text/plain": [
       "tensor([[0.9514, 0.3975, 0.3291],\n",
       "        [0.7604, 0.0752, 0.3696],\n",
       "        [0.1716, 0.3865, 0.1762],\n",
       "        [0.4926, 0.4041, 0.2064]])"
      ]
     },
     "execution_count": 57,
     "metadata": {},
     "output_type": "execute_result"
    }
   ],
   "source": [
    "torch.cat((x,y),0)"
   ]
  },
  {
   "cell_type": "code",
   "execution_count": 60,
   "metadata": {},
   "outputs": [
    {
     "data": {
      "text/plain": [
       "tensor([[0.9514, 0.3975, 0.3291, 0.1716, 0.3865, 0.1762],\n",
       "        [0.7604, 0.0752, 0.3696, 0.4926, 0.4041, 0.2064]])"
      ]
     },
     "execution_count": 60,
     "metadata": {},
     "output_type": "execute_result"
    }
   ],
   "source": [
    "z = torch.cat((x,y),1)\n",
    "z"
   ]
  },
  {
   "cell_type": "code",
   "execution_count": 67,
   "metadata": {},
   "outputs": [
    {
     "data": {
      "text/plain": [
       "(tensor([[0.9514, 0.3975],\n",
       "         [0.7604, 0.0752]]), tensor([[0.3291, 0.1716],\n",
       "         [0.3696, 0.4926]]), tensor([[0.3865, 0.1762],\n",
       "         [0.4041, 0.2064]]))"
      ]
     },
     "execution_count": 67,
     "metadata": {},
     "output_type": "execute_result"
    }
   ],
   "source": [
    "z.chunk(chunks=3,dim = 1)"
   ]
  },
  {
   "cell_type": "code",
   "execution_count": 68,
   "metadata": {},
   "outputs": [
    {
     "data": {
      "text/plain": [
       "tensor([[0.9514, 0.3975, 0.3291],\n",
       "        [0.7604, 0.0752, 0.3696]])"
      ]
     },
     "execution_count": 68,
     "metadata": {},
     "output_type": "execute_result"
    }
   ],
   "source": [
    "x"
   ]
  },
  {
   "cell_type": "code",
   "execution_count": 69,
   "metadata": {},
   "outputs": [
    {
     "data": {
      "text/plain": [
       "tensor([[0.7000, 0.3975, 0.3291],\n",
       "        [0.7000, 0.3000, 0.3696]])"
      ]
     },
     "execution_count": 69,
     "metadata": {},
     "output_type": "execute_result"
    }
   ],
   "source": [
    "x.clamp(0.3,0.7)"
   ]
  },
  {
   "cell_type": "code",
   "execution_count": 74,
   "metadata": {},
   "outputs": [
    {
     "data": {
      "text/plain": [
       "torch.return_types.topk(\n",
       "values=tensor([[0.9514],\n",
       "        [0.7604]]),\n",
       "indices=tensor([[0],\n",
       "        [0]]))"
      ]
     },
     "execution_count": 74,
     "metadata": {},
     "output_type": "execute_result"
    }
   ],
   "source": [
    "x.topk(1)"
   ]
  },
  {
   "cell_type": "code",
   "execution_count": 75,
   "metadata": {},
   "outputs": [
    {
     "data": {
      "text/plain": [
       "tensor([0.9514, 0.3975, 0.3291, 0.7604, 0.0752, 0.3696])"
      ]
     },
     "execution_count": 75,
     "metadata": {},
     "output_type": "execute_result"
    }
   ],
   "source": [
    "x.flatten()"
   ]
  },
  {
   "cell_type": "code",
   "execution_count": 76,
   "metadata": {},
   "outputs": [
    {
     "data": {
      "text/plain": [
       "6"
      ]
     },
     "execution_count": 76,
     "metadata": {},
     "output_type": "execute_result"
    }
   ],
   "source": [
    "x.numel()"
   ]
  },
  {
   "cell_type": "code",
   "execution_count": 77,
   "metadata": {},
   "outputs": [
    {
     "name": "stdout",
     "output_type": "stream",
     "text": [
      "tensor([0.9229, 0.3806, 0.0809, 0.5863, 0.9223, 0.5975, 0.8794, 0.5078, 0.3689,\n",
      "        0.3638]) tensor([0.4918, 0.0514, 0.0298, 0.3572, 0.8785, 0.2352, 0.3665, 0.4019, 0.5137,\n",
      "        0.3477])\n"
     ]
    }
   ],
   "source": [
    "x = torch.rand(10)\n",
    "y = torch.rand(10)\n",
    "print(x,y)"
   ]
  },
  {
   "cell_type": "code",
   "execution_count": 81,
   "metadata": {},
   "outputs": [
    {
     "data": {
      "text/plain": [
       "tensor([[0.9229, 0.3806, 0.0809, 0.5863, 0.9223, 0.5975, 0.8794, 0.5078, 0.3689,\n",
       "         0.3638],\n",
       "        [0.4918, 0.0514, 0.0298, 0.3572, 0.8785, 0.2352, 0.3665, 0.4019, 0.5137,\n",
       "         0.3477]])"
      ]
     },
     "execution_count": 81,
     "metadata": {},
     "output_type": "execute_result"
    }
   ],
   "source": [
    "torch.stack((x,y),dim=0)"
   ]
  },
  {
   "cell_type": "code",
   "execution_count": 82,
   "metadata": {},
   "outputs": [
    {
     "data": {
      "text/plain": [
       "tensor([0.9229, 0.3806, 0.0809, 0.5863, 0.9223, 0.5975, 0.8794, 0.5078, 0.3689,\n",
       "        0.3638, 0.4918, 0.0514, 0.0298, 0.3572, 0.8785, 0.2352, 0.3665, 0.4019,\n",
       "        0.5137, 0.3477])"
      ]
     },
     "execution_count": 82,
     "metadata": {},
     "output_type": "execute_result"
    }
   ],
   "source": [
    "torch.cat((x,y),dim = 0)"
   ]
  },
  {
   "cell_type": "code",
   "execution_count": 93,
   "metadata": {},
   "outputs": [
    {
     "data": {
      "text/plain": [
       "torch.Size([10, 1])"
      ]
     },
     "execution_count": 93,
     "metadata": {},
     "output_type": "execute_result"
    }
   ],
   "source": [
    "x.unsqueeze(dim = 1).shape"
   ]
  },
  {
   "cell_type": "code",
   "execution_count": 96,
   "metadata": {},
   "outputs": [],
   "source": [
    "x = torch.ones(2,2,requires_grad = True)"
   ]
  },
  {
   "cell_type": "code",
   "execution_count": 99,
   "metadata": {},
   "outputs": [
    {
     "name": "stdout",
     "output_type": "stream",
     "text": [
      "tensor([[1., 1.],\n",
      "        [1., 1.]], requires_grad=True) tensor([[3., 3.],\n",
      "        [3., 3.]], grad_fn=<AddBackward0>) tensor([[4., 4.],\n",
      "        [4., 4.]], grad_fn=<AddBackward0>)\n"
     ]
    }
   ],
   "source": [
    "y = x + 2\n",
    "z = y + 1\n",
    "print(x,y,z)"
   ]
  },
  {
   "cell_type": "code",
   "execution_count": 1,
   "metadata": {},
   "outputs": [
    {
     "name": "stdout",
     "output_type": "stream",
     "text": [
      "Net(\n",
      "  (conv1): Conv2d(1, 6, kernel_size=(5, 5), stride=(1, 1))\n",
      "  (conv2): Conv2d(6, 16, kernel_size=(5, 5), stride=(1, 1))\n",
      "  (fc1): Linear(in_features=400, out_features=120, bias=True)\n",
      "  (fc2): Linear(in_features=120, out_features=84, bias=True)\n",
      "  (fc3): Linear(in_features=84, out_features=10, bias=True)\n",
      ")\n"
     ]
    }
   ],
   "source": [
    "# 定义一个模型\n",
    "import torch.nn as nn\n",
    "import torch.optim as optim\n",
    "import torch\n",
    "import torch.nn.functional as F\n",
    "import pdb\n",
    "\n",
    "class Net(nn.Module):\n",
    "    def __init__(self):\n",
    "        super(Net,self).__init__()\n",
    "        self.conv1 = nn.Conv2d(1,6,5) # input_channel,ouput_channel,kernel_size\n",
    "        self.conv2 = nn.Conv2d(6,16,5)\n",
    "        self.fc1 = nn.Linear(16*5*5,120)\n",
    "        self.fc2 = nn.Linear(120,84)\n",
    "        self.fc3 = nn.Linear(84,10)\n",
    "    def forward(self,x):\n",
    "        x = F.max_pool2d(F.relu(self.conv1(x)),(2,2))\n",
    "        x = F.max_pool2d(F.relu(self.conv2(x)),2)\n",
    "  #      pdb.set_trace()\n",
    "        x = x.flatten()\n",
    "        x = F.relu(self.fc1(x))\n",
    "        x = F.relu(self.fc2(x))\n",
    "        x = self.fc3(x)\n",
    "        return x\n",
    "net = Net()\n",
    "print(net)"
   ]
  },
  {
   "cell_type": "code",
   "execution_count": 2,
   "metadata": {},
   "outputs": [],
   "source": [
    "# 输入\n",
    "inputs = torch.rand(1,1,32,32) # batch_size,channel,feature_size\n",
    "target = torch.rand(1,10,dtype = torch.float)"
   ]
  },
  {
   "cell_type": "code",
   "execution_count": 3,
   "metadata": {},
   "outputs": [],
   "source": [
    "# 优化器，loss\n",
    "criterion = nn.MSELoss()\n",
    "optimizer = optim.SGD(net.parameters(),lr = 0.01)"
   ]
  },
  {
   "cell_type": "code",
   "execution_count": 5,
   "metadata": {},
   "outputs": [
    {
     "name": "stderr",
     "output_type": "stream",
     "text": [
      "  0%|          | 0/100 [00:00<?, ?it/s]/home/zhouwh/anaconda3/lib/python3.7/site-packages/torch/nn/modules/loss.py:431: UserWarning: Using a target size (torch.Size([1, 10])) that is different to the input size (torch.Size([10])). This will likely lead to incorrect results due to broadcasting. Please ensure they have the same size.\n",
      "  return F.mse_loss(input, target, reduction=self.reduction)\n",
      " 28%|██▊       | 28/100 [00:00<00:21,  3.36it/s]"
     ]
    },
    {
     "name": "stdout",
     "output_type": "stream",
     "text": [
      "epoch 0 loss 0.3968711495399475 \n",
      "epoch 10 loss 0.3668432831764221 \n",
      "epoch 20 loss 0.3382783532142639 \n",
      "epoch 30 loss 0.3096068203449249 \n",
      "epoch 40 loss 0.279396653175354 \n",
      "epoch 50 loss 0.24495340883731842 \n"
     ]
    },
    {
     "name": "stderr",
     "output_type": "stream",
     "text": [
      " 81%|████████  | 81/100 [00:00<00:02,  6.75it/s]"
     ]
    },
    {
     "name": "stdout",
     "output_type": "stream",
     "text": [
      "epoch 60 loss 0.19957855343818665 \n",
      "epoch 70 loss 0.13975022733211517 \n",
      "epoch 80 loss 0.07448307424783707 \n",
      "epoch 90 loss 0.028128692880272865 \n"
     ]
    },
    {
     "name": "stderr",
     "output_type": "stream",
     "text": [
      "100%|██████████| 100/100 [00:00<00:00, 114.53it/s]\n"
     ]
    }
   ],
   "source": [
    "from tqdm import tqdm\n",
    "# train\n",
    "for epoch in tqdm(range(100)):\n",
    "    output = net(inputs)\n",
    "    loss = criterion(output,target)\n",
    "    optimizer.zero_grad()\n",
    "    loss.backward()\n",
    "    optimizer.step()\n",
    "    if epoch % 10 == 0:\n",
    "        print('epoch {} loss {} '.format(epoch,loss))"
   ]
  },
  {
   "cell_type": "code",
   "execution_count": 6,
   "metadata": {},
   "outputs": [
    {
     "data": {
      "text/plain": [
       "tensor([[[[0.1356, 0.2893, 0.5519,  ..., 0.4904, 0.8390, 0.2880],\n",
       "          [0.8075, 0.1683, 0.0936,  ..., 0.5851, 0.1875, 0.6230],\n",
       "          [0.8347, 0.7803, 0.0461,  ..., 0.6400, 0.6488, 0.7323],\n",
       "          ...,\n",
       "          [0.9875, 0.1924, 0.7698,  ..., 0.4542, 0.5652, 0.4716],\n",
       "          [0.2793, 0.1737, 0.5364,  ..., 0.5343, 0.2832, 0.4427],\n",
       "          [0.4320, 0.5593, 0.6524,  ..., 0.3374, 0.6030, 0.6721]]]])"
      ]
     },
     "execution_count": 6,
     "metadata": {},
     "output_type": "execute_result"
    }
   ],
   "source": [
    "inputs"
   ]
  },
  {
   "cell_type": "code",
   "execution_count": 7,
   "metadata": {},
   "outputs": [
    {
     "data": {
      "text/plain": [
       "tensor([[0.3442, 0.7611, 0.7357, 0.4008, 0.1624, 0.3515, 0.1217, 0.7796, 0.8988,\n",
       "         0.9917]])"
      ]
     },
     "execution_count": 7,
     "metadata": {},
     "output_type": "execute_result"
    }
   ],
   "source": [
    "target"
   ]
  },
  {
   "cell_type": "code",
   "execution_count": 8,
   "metadata": {},
   "outputs": [
    {
     "data": {
      "text/plain": [
       "tensor([0.3398, 0.5458, 0.7528, 0.4875, 0.2332, 0.2651, 0.0874, 0.7303, 0.7390,\n",
       "        0.9666], grad_fn=<AddBackward0>)"
      ]
     },
     "execution_count": 8,
     "metadata": {},
     "output_type": "execute_result"
    }
   ],
   "source": [
    "net(inputs)"
   ]
  },
  {
   "cell_type": "code",
   "execution_count": 9,
   "metadata": {},
   "outputs": [],
   "source": [
    "import torch\n",
    "import torch.nn as nn\n",
    "import torch.optim as optim\n",
    "from torch.utils.data import Dataset,DataLoader\n",
    "import torch.nn.functional as F\n",
    "device = torch.device('cuda:0' if torch.cuda.is_available() else 'cpu')\n",
    "\n",
    "class randomDataset(Dataset):\n",
    "    def __init__(self,shape_x,shape_y,lens):\n",
    "        self.shape_x = shape_x \n",
    "        self.shape_y = shape_y\n",
    "        self.lens = lens\n",
    "        self.data = torch.rand(lens,1,self.shape_x,self.shape_y)\n",
    "    def __getitem__(self,index):\n",
    "        return self.data[index]\n",
    "    def __len__(self):\n",
    "        return self.lens\n",
    "rand_loader = DataLoader(randomDataset(24,24,100),batch_size = 5,shuffle = True)\n",
    "\n",
    "class simpleNet(nn.Module):\n",
    "    def __init__(self):\n",
    "        super(simpleNet,self).__init__()\n",
    "        self.conv1 = nn.Conv2d(1,16,5)\n",
    "        self.fc1 = nn.Linear(16*20*20,10)\n",
    "    def forward(self,x):\n",
    "        x = F.relu(self.conv1(x))\n",
    "        x = x.view(-1,16*20*20) # 惊为天人的操作\n",
    "        x = self.fc1(x)\n",
    "        return x"
   ]
  },
  {
   "cell_type": "code",
   "execution_count": 12,
   "metadata": {},
   "outputs": [
    {
     "data": {
      "text/plain": [
       "simpleNet(\n",
       "  (conv1): Conv2d(1, 16, kernel_size=(5, 5), stride=(1, 1))\n",
       "  (fc1): Linear(in_features=6400, out_features=10, bias=True)\n",
       ")"
      ]
     },
     "execution_count": 12,
     "metadata": {},
     "output_type": "execute_result"
    }
   ],
   "source": [
    "model = simpleNet()\n",
    "#if torch.cuda.device_count() > 1:\n",
    "#    print('let use {} gpus'.format(torch.cuda.device_count()))\n",
    "#    model = nn.DataParallel(model)\n",
    "model.to(device)"
   ]
  },
  {
   "cell_type": "code",
   "execution_count": 13,
   "metadata": {},
   "outputs": [
    {
     "name": "stderr",
     "output_type": "stream",
     "text": [
      "100%|██████████| 20/20 [00:00<00:00, 693.54it/s]"
     ]
    },
    {
     "name": "stdout",
     "output_type": "stream",
     "text": [
      "torch.Size([5, 10])\n",
      "loss: 0.31945642828941345\n",
      "torch.Size([5, 10])\n",
      "loss: 0.05370015278458595\n",
      "torch.Size([5, 10])\n",
      "loss: 0.014829144813120365\n",
      "torch.Size([5, 10])\n",
      "loss: 0.004209326114505529\n",
      "torch.Size([5, 10])\n",
      "loss: 0.004121073056012392\n",
      "torch.Size([5, 10])\n",
      "loss: 0.005291619338095188\n",
      "torch.Size([5, 10])\n",
      "loss: 0.004981996025890112\n",
      "torch.Size([5, 10])\n",
      "loss: 0.007103076204657555\n",
      "torch.Size([5, 10])\n",
      "loss: 0.008539979346096516\n",
      "torch.Size([5, 10])\n",
      "loss: 0.006855757441371679\n",
      "torch.Size([5, 10])\n",
      "loss: 0.005385641939938068\n",
      "torch.Size([5, 10])\n",
      "loss: 0.00733264209702611\n",
      "torch.Size([5, 10])\n",
      "loss: 0.005647116806358099\n",
      "torch.Size([5, 10])\n",
      "loss: 0.008674513548612595\n",
      "torch.Size([5, 10])\n",
      "loss: 0.005920981988310814\n",
      "torch.Size([5, 10])\n",
      "loss: 0.004188993480056524\n",
      "torch.Size([5, 10])\n",
      "loss: 0.0066486019641160965\n",
      "torch.Size([5, 10])\n",
      "loss: 0.006198296323418617\n",
      "torch.Size([5, 10])\n",
      "loss: 0.004707695450633764\n",
      "torch.Size([5, 10])\n",
      "loss: 0.004760781303048134\n"
     ]
    },
    {
     "name": "stderr",
     "output_type": "stream",
     "text": [
      "\n"
     ]
    }
   ],
   "source": [
    "from tqdm import tqdm\n",
    "target = torch.rand(1,10,dtype = torch.float).to(device)\n",
    "optimizer = optim.SGD(model.parameters(),lr = 0.01)\n",
    "criterion = nn.MSELoss()\n",
    "# train\n",
    "for data in tqdm(rand_loader):\n",
    "    inputs = data.to(device)\n",
    "    output = model(inputs)\n",
    "    print(output.shape)\n",
    "    loss = criterion(output,target)\n",
    "    optimizer.zero_grad()\n",
    "    loss.backward()\n",
    "    optimizer.step()\n",
    "    print('loss: {}'.format(loss))"
   ]
  },
  {
   "cell_type": "code",
   "execution_count": 20,
   "metadata": {},
   "outputs": [],
   "source": [
    "import torch.utils.data as Data\n",
    "x = torch.rand(10,10)\n",
    "y = torch.rand(10,1)\n",
    "# 转换成dataset\n",
    "datas = Data.TensorDataset(x ,y)"
   ]
  },
  {
   "cell_type": "code",
   "execution_count": 21,
   "metadata": {},
   "outputs": [],
   "source": [
    "lloader = DataLoader(datas,batch_size=4,shuffle=True)"
   ]
  },
  {
   "cell_type": "code",
   "execution_count": 22,
   "metadata": {},
   "outputs": [
    {
     "data": {
      "text/plain": [
       "torch.utils.data.dataloader.DataLoader"
      ]
     },
     "execution_count": 22,
     "metadata": {},
     "output_type": "execute_result"
    }
   ],
   "source": [
    "type(lloader)"
   ]
  },
  {
   "cell_type": "code",
   "execution_count": 23,
   "metadata": {},
   "outputs": [
    {
     "name": "stdout",
     "output_type": "stream",
     "text": [
      "[tensor([[0.5239, 0.2366, 0.8512, 0.8190, 0.1067, 0.3709, 0.5687, 0.9362, 0.9355,\n",
      "         0.2460],\n",
      "        [0.3404, 0.5247, 0.4257, 0.2317, 0.8499, 0.1017, 0.1456, 0.4393, 0.3741,\n",
      "         0.5412],\n",
      "        [0.7588, 0.7238, 0.2314, 0.6618, 0.5616, 0.4977, 0.0041, 0.7055, 0.8686,\n",
      "         0.0579],\n",
      "        [0.2623, 0.1401, 0.4428, 0.7162, 0.3891, 0.5980, 0.8248, 0.2911, 0.3581,\n",
      "         0.6490]]), tensor([[0.5197],\n",
      "        [0.4676],\n",
      "        [0.7434],\n",
      "        [0.1576]])]\n"
     ]
    }
   ],
   "source": [
    "for item in lloader:\n",
    "    print(item)\n",
    "    break"
   ]
  },
  {
   "cell_type": "code",
   "execution_count": null,
   "metadata": {},
   "outputs": [],
   "source": []
  }
 ],
 "metadata": {
  "kernelspec": {
   "display_name": "Python 3",
   "language": "python",
   "name": "python3"
  },
  "language_info": {
   "codemirror_mode": {
    "name": "ipython",
    "version": 3
   },
   "file_extension": ".py",
   "mimetype": "text/x-python",
   "name": "python",
   "nbconvert_exporter": "python",
   "pygments_lexer": "ipython3",
   "version": "3.7.3"
  }
 },
 "nbformat": 4,
 "nbformat_minor": 2
}
